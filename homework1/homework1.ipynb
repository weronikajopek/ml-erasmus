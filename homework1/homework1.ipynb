{
  "cells": [
    {
      "cell_type": "markdown",
      "metadata": {
        "id": "dNlZd5pyw-OR"
      },
      "source": [
        "Name Surname: WERONIKA JOPEK\n",
        "\n",
        "Student No: 912400002\n",
        "\n"
      ]
    },
    {
      "cell_type": "markdown",
      "metadata": {
        "id": "W0aHEvh1b6fj"
      },
      "source": [
        "Libraries to be used\n",
        "\n",
        "---\n",
        "\n"
      ]
    },
    {
      "cell_type": "code",
      "execution_count": 2,
      "metadata": {
        "id": "H6-FpGne92Tr"
      },
      "outputs": [],
      "source": [
        "from sklearn.linear_model import LogisticRegression\n",
        "from sklearn.neighbors import KNeighborsClassifier\n",
        "from sklearn.naive_bayes import GaussianNB\n",
        "from sklearn.decomposition import PCA\n",
        "from sklearn.metrics import accuracy_score, f1_score, root_mean_squared_error\n",
        "from sklearn.datasets import load_digits\n",
        "from sklearn.model_selection import train_test_split\n",
        "import numpy as np\n",
        "from matplotlib import pyplot as plt"
      ]
    },
    {
      "cell_type": "markdown",
      "metadata": {
        "id": "ijQ4Fvfvcmez"
      },
      "source": [
        "# Build your own code-base (30 points)\n",
        "\n",
        "Implement the methods provided and compare your implementation with Sklearn library\n",
        "\n",
        "---"
      ]
    },
    {
      "cell_type": "markdown",
      "metadata": {
        "id": "LguwidLjdgya"
      },
      "source": [
        "K-Nearest Neighbour (5 points)"
      ]
    },
    {
      "cell_type": "code",
      "execution_count": 3,
      "metadata": {
        "id": "F33-UFA-bper"
      },
      "outputs": [],
      "source": [
        "class KNN:\n",
        "    def __init__(self, train_data, train_label, k=3):\n",
        "        self.k = k\n",
        "        self.train_data = train_data\n",
        "        self.train_label = train_label\n",
        "\n",
        "    def predict(self, test_data):\n",
        "\n",
        "        # creating a list for storing predictions for each test sample\n",
        "        predictions = []\n",
        "\n",
        "        for test_point in test_data:\n",
        "\n",
        "            # calculating Euclidean distances between test point and all training samples\n",
        "            distances = np.linalg.norm(self.train_data - test_point, axis=1)\n",
        "\n",
        "            # finding the smallest distances of the k closet training samples\n",
        "            k_indices = np.argsort(distances)[:self.k]\n",
        "\n",
        "            # finding labels of the k closest training samples\n",
        "            k_labels = self.train_label[k_indices]\n",
        "\n",
        "            # finding the most common label\n",
        "            prediction = np.bincount(k_labels).argmax()\n",
        "\n",
        "            # adding the predicted label\n",
        "            predictions.append(prediction)\n",
        "\n",
        "        # converting the list into array\n",
        "        return np.array(predictions)\n",
        "        pass\n"
      ]
    },
    {
      "cell_type": "markdown",
      "metadata": {
        "id": "2EW4yvZlmOPl"
      },
      "source": [
        "Gaussian Naive Bayes (5 points)"
      ]
    },
    {
      "cell_type": "code",
      "execution_count": 26,
      "metadata": {
        "id": "wXCwTb64dffx"
      },
      "outputs": [],
      "source": [
        "class GNB:\n",
        "    def __init__(self, train_data, train_label):\n",
        "        self.train_data = train_data\n",
        "        self.train_label = train_label\n",
        "        self.classes = np.unique(train_label)\n",
        "\n",
        "    # calculate Gaussian probability density function for given values\n",
        "    def gaussian_probability(self, x, mean, std):\n",
        "\n",
        "        # addind this to avoid division by zero\n",
        "        std = np.maximum(std, 1e-6)\n",
        "        # calculating exponent\n",
        "        exponent = np.exp(-((x - mean)**2) / (2 * std**2))\n",
        "\n",
        "        # returning gaussian pdf value\n",
        "        return (1 / (np.sqrt(2 * np.pi) * std)) * exponent\n",
        "\n",
        "        pass\n",
        "\n",
        "    # fitting the model to the training data by calculating statistics for each class\n",
        "    def fit(self):\n",
        "\n",
        "        # creating directory for storing statistics for each class\n",
        "        self.class_stats = {}\n",
        "\n",
        "        for cls in self.classes:\n",
        "\n",
        "            # selecting all data points (all rows) corresponding to the current class\n",
        "            cls_data = self.train_data[self.train_label == cls]\n",
        "\n",
        "            # storing the statistics for the current class\n",
        "            self.class_stats[cls] = {\n",
        "                \"mean\": np.mean(cls_data, axis=0),\n",
        "                \"std\": np.std(cls_data, axis=0),\n",
        "                \"prior\": len(cls_data) / len(self.train_label)\n",
        "            }\n",
        "\n",
        "        pass\n",
        "\n",
        "    # predicting the class labels for the given test data\n",
        "    def predict(self, test_data):\n",
        "\n",
        "        # creating list for storing predictions for each test sample\n",
        "        predictions = []\n",
        "\n",
        "        for test_point in test_data:\n",
        "\n",
        "            # creating dictionary for storing log probabilities for each class\n",
        "            class_probs = {}\n",
        "\n",
        "            for cls, stats in self.class_stats.items():\n",
        "\n",
        "                # caclulating log of the prior probability for the current class\n",
        "                prior = np.log(stats[\"prior\"])\n",
        "\n",
        "                # calculating log of the likelihood for the current test point\n",
        "                # this is the sum of log probabilities for all features in the test point\n",
        "                likelihood = np.sum(\n",
        "                    np.log(self.gaussian_probability(test_point, stats[\"mean\"], stats[\"std\"]) + 1e-6)\n",
        "                )\n",
        "\n",
        "                # adding the log prior and log likelihood to get the log posterior probability\n",
        "                class_probs[cls] = prior + likelihood\n",
        "\n",
        "            # finding the class with the highest log posterior probability\n",
        "            predictions.append(max(class_probs, key=class_probs.get))\n",
        "\n",
        "        # converting the list into array\n",
        "        return np.array(predictions)\n",
        "\n",
        "        pass\n"
      ]
    },
    {
      "cell_type": "markdown",
      "metadata": {
        "id": "8DtdaqINoWd7"
      },
      "source": [
        "Principal Component Analysis (5 points)"
      ]
    },
    {
      "cell_type": "code",
      "execution_count": 40,
      "metadata": {
        "id": "0fAfE2jboV_v"
      },
      "outputs": [],
      "source": [
        "class PCA:\n",
        "\n",
        "  def __init__(self, data, n_components):\n",
        "        self.data = data\n",
        "        self.n_components = n_components\n",
        "\n",
        "  def fit(self):\n",
        "\n",
        "        # centering the data by subtracting the mean of each feature\n",
        "        data_centered = self.data - np.mean(self.data, axis=0)\n",
        "\n",
        "        # calculate covariance matrix of the centered data\n",
        "        covariance_matrix = np.cov(data_centered, rowvar=False)\n",
        "\n",
        "        # calculate eigenvalues and eigenvectors of covariance matrix\n",
        "        eigenvalues, eigenvectors = np.linalg.eigh(covariance_matrix)\n",
        "\n",
        "        # sorting indices of the eigenvalues in desc order\n",
        "        sorted_indices = np.argsort(eigenvalues)[::-1]\n",
        "\n",
        "        # selecting the top n components eigenvectors corresponding to the largest eigenvalues\n",
        "        self.eigenvectors = eigenvectors[:, sorted_indices][:, :self.n_components]\n",
        "\n",
        "        pass\n",
        "\n",
        "  def transform(self, x):\n",
        "\n",
        "        # centering the input data using the mean of the original training data\n",
        "        x_centered = x - np.mean(self.data, axis=0)\n",
        "\n",
        "        # projecting the centered data onto the principal components\n",
        "        return np.dot(x_centered, self.eigenvectors)\n",
        "\n",
        "        pass"
      ]
    },
    {
      "cell_type": "markdown",
      "metadata": {
        "id": "Wp95iB6qffg3"
      },
      "source": [
        "Metrics (2+3 points)\n",
        "\n"
      ]
    },
    {
      "cell_type": "code",
      "execution_count": 41,
      "metadata": {
        "id": "8L4zDi-lffK2"
      },
      "outputs": [],
      "source": [
        "def rmse(y_true, y_pred):\n",
        "\n",
        "  # calculating and returning mean squared error and taking its square root\n",
        "  return np.sqrt(np.mean((y_true - y_pred)**2))\n",
        "\n",
        "  pass\n",
        "\n",
        "def accuracyNf1_score(y_true, y_pred):\n",
        "\n",
        "  # caclculating accuracy - the proportion of correctly predicted labels\n",
        "  accuracy = np.sum(y_true == y_pred) / len(y_true)\n",
        "\n",
        "  # calculating number of true positives\n",
        "  tp = np.sum((y_true == y_pred) & (y_true == 1))\n",
        "\n",
        "  # calculating number of false positives\n",
        "  fp = np.sum((y_pred == 1) & (y_true == 0))\n",
        "\n",
        "  # calculating number of false negatives\n",
        "  fn = np.sum((y_pred == 0) & (y_true == 1))\n",
        "\n",
        "  # calculating precision - the proportion of true positives out of predicted positives\n",
        "  precision = tp / (tp + fp) if (tp + fp) > 0 else 0\n",
        "\n",
        "  # rcalculating ecall - the proportion of true positives out of actual positives\n",
        "  recall = tp / (tp + fn) if (tp + fn) > 0 else 0\n",
        "\n",
        "  # calculating f1 score - the harmonic mean of precision and recall\n",
        "  f1 = (2 * precision * recall) / (precision + recall) if (precision + recall) > 0 else 0\n",
        "\n",
        "  return accuracy, f1\n",
        "\n",
        "  pass\n"
      ]
    },
    {
      "cell_type": "markdown",
      "metadata": {
        "id": "kV0sVRDS8j-G"
      },
      "source": [
        "Visualization Tools (5 points)"
      ]
    },
    {
      "cell_type": "code",
      "execution_count": 42,
      "metadata": {
        "id": "_Kf9PZFy8cYP"
      },
      "outputs": [],
      "source": [
        "# creating a function to vizualize results\n",
        "\n",
        "def plot_digits(images, labels, title):\n",
        "    plt.figure(figsize=(10, 5))\n",
        "    for i in range(10):\n",
        "        plt.subplot(2, 5, i + 1)\n",
        "        plt.imshow(images[i].reshape(8, 8), cmap='gray')\n",
        "        plt.title(f\"Label: {labels[i]}\")\n",
        "        plt.axis('off')\n",
        "    plt.suptitle(title)\n",
        "    plt.show()"
      ]
    },
    {
      "cell_type": "markdown",
      "metadata": {
        "id": "wEdKWex2pcwa"
      },
      "source": [
        "Validate your implementation using libraries (5 points)\n",
        "\n",
        "(you can generate synthetic data using numpy of import another toy dataset from sklearn)\n"
      ]
    },
    {
      "cell_type": "code",
      "execution_count": 43,
      "metadata": {
        "id": "xAqgVs5dp9pz",
        "colab": {
          "base_uri": "https://localhost:8080/",
          "height": 506
        },
        "outputId": "cf4c4ef7-7a71-4d9f-c31f-b56a672e3049"
      },
      "outputs": [
        {
          "output_type": "stream",
          "name": "stdout",
          "text": [
            "KNN Accuracy: 0.9861111111111112\n",
            "GNB Accuracy: 0.5777777777777777\n",
            "PCA transformed shape: (360, 10)\n"
          ]
        },
        {
          "output_type": "display_data",
          "data": {
            "text/plain": [
              "<Figure size 1000x500 with 10 Axes>"
            ],
            "image/png": "[encoded data removed]"
          },
          "metadata": {}
        }
      ],
      "source": [
        "# loading the digits dataset\n",
        "digits = load_digits()\n",
        "X_train, X_test, y_train, y_test = train_test_split(digits.data, digits.target, test_size=0.2, random_state=42)\n",
        "\n",
        "# K-Nearest Neighbors\n",
        "knn = KNN(X_train, y_train, k=5)\n",
        "knn_predictions = knn.predict(X_test)\n",
        "print(\"KNN Accuracy:\", accuracy_score(y_test, knn_predictions))\n",
        "\n",
        "# Gaussian Naive Bayes\n",
        "gnb = GNB(X_train, y_train)\n",
        "gnb.fit()\n",
        "gnb_predictions = gnb.predict(X_test)\n",
        "print(\"GNB Accuracy:\", accuracy_score(y_test, gnb_predictions))\n",
        "\n",
        "# PCA\n",
        "pca = PCA(X_train, n_components=10)\n",
        "pca.fit()\n",
        "transformed_data = pca.transform(X_test)\n",
        "print(\"PCA transformed shape:\", transformed_data.shape)\n",
        "\n",
        "# plotting first 10 images with their labels\n",
        "plot_digits(digits.images, digits.target, \"First 10 Digits\")\n"
      ]
    },
    {
      "cell_type": "markdown",
      "metadata": {
        "id": "gvTTC7_BqMmx"
      },
      "source": [
        "# Experiments (45 points)\n",
        "\n",
        "Use Sklearn classes\n",
        "\n",
        "---"
      ]
    },
    {
      "cell_type": "markdown",
      "metadata": {
        "id": "1U41fPKBr1Xr"
      },
      "source": [
        "Dataset preparation"
      ]
    },
    {
      "cell_type": "code",
      "execution_count": 31,
      "metadata": {
        "colab": {
          "base_uri": "https://localhost:8080/"
        },
        "id": "FLziE30kX8Nr",
        "outputId": "96dc72ad-a1cc-4ead-c38f-4480cc0eccb9"
      },
      "outputs": [
        {
          "output_type": "stream",
          "name": "stdout",
          "text": [
            "Class 0: 144 train  34 test 4.235294117647059 ratio\n",
            "Class 1: 137 train  45 test 3.0444444444444443 ratio\n",
            "Class 2: 150 train  27 test 5.555555555555555 ratio\n",
            "Class 3: 145 train  38 test 3.8157894736842106 ratio\n",
            "Class 4: 145 train  36 test 4.027777777777778 ratio\n",
            "Class 5: 144 train  38 test 3.789473684210526 ratio\n",
            "Class 6: 146 train  35 test 4.171428571428572 ratio\n",
            "Class 7: 142 train  37 test 3.8378378378378377 ratio\n",
            "Class 8: 143 train  31 test 4.612903225806452 ratio\n",
            "Class 9: 141 train  39 test 3.6153846153846154 ratio\n"
          ]
        }
      ],
      "source": [
        "# Load dataset and split to train and test set\n",
        "digits = load_digits()\n",
        "X_train, X_test, y_train, y_test = train_test_split(digits.data, digits.target, test_size=0.2, random_state=454)\n",
        "\n",
        "# Calculate the frequency of each class in the training set\n",
        "unique_classes_test, class_counts_test = np.unique(y_test, return_counts=True)\n",
        "unique_classes_train, class_counts_train = np.unique(y_train, return_counts=True)\n",
        "\n",
        "for cls_train, count_train, cls_test, count_test in zip(unique_classes_train, class_counts_train, unique_classes_test, class_counts_test):\n",
        "  print(f\"Class {cls_train}: {count_train} train  {count_test} test {count_train/count_test} ratio\")"
      ]
    },
    {
      "cell_type": "markdown",
      "metadata": {
        "id": "W1E9IPBAr9d6"
      },
      "source": [
        "Apply classification methods using the dataset directly (10 points)\n",
        "(paramtre denemeleri tarzı şeyler)"
      ]
    },
    {
      "cell_type": "code",
      "execution_count": 32,
      "metadata": {
        "id": "FYSdPF-mqJhK",
        "colab": {
          "base_uri": "https://localhost:8080/"
        },
        "outputId": "2b54b8f8-aaf7-4bb4-e890-682e787114ee"
      },
      "outputs": [
        {
          "output_type": "stream",
          "name": "stdout",
          "text": [
            "Logistic Regression Accuracy: 0.9666666666666667\n",
            "KNN Accuracy: 0.9722222222222222\n",
            "Gaussian Naive Bayes Accuracy: 0.85\n"
          ]
        }
      ],
      "source": [
        "# Logistic Regression\n",
        "log_reg = LogisticRegression(max_iter=10000)\n",
        "log_reg.fit(X_train, y_train)\n",
        "log_reg_predictions = log_reg.predict(X_test)\n",
        "print(\"Logistic Regression Accuracy:\", accuracy_score(y_test, log_reg_predictions))\n",
        "\n",
        "# K-Nearest Neighbors\n",
        "knn_model = KNeighborsClassifier(n_neighbors=5)\n",
        "knn_model.fit(X_train, y_train)\n",
        "knn_predictions = knn_model.predict(X_test)\n",
        "print(\"KNN Accuracy:\", accuracy_score(y_test, knn_predictions))\n",
        "\n",
        "# Gaussian Naive Bayes\n",
        "gnb_model = GaussianNB()\n",
        "gnb_model.fit(X_train, y_train)\n",
        "gnb_predictions = gnb_model.predict(X_test)\n",
        "print(\"Gaussian Naive Bayes Accuracy:\", accuracy_score(y_test, gnb_predictions))\n"
      ]
    },
    {
      "cell_type": "markdown",
      "metadata": {
        "id": "IbBlC1WmsXDq"
      },
      "source": [
        "Apply PCA and find optimal #components with the best recontruction (RMSE) as the objective (10 points)"
      ]
    },
    {
      "cell_type": "code",
      "execution_count": 33,
      "metadata": {
        "id": "yyOsGnlksrcr",
        "colab": {
          "base_uri": "https://localhost:8080/",
          "height": 582
        },
        "outputId": "3e68d15e-1862-4b35-836a-494ede02f098"
      },
      "outputs": [
        {
          "output_type": "display_data",
          "data": {
            "text/plain": [
              "<Figure size 1000x600 with 1 Axes>"
            ],
            "image/png": "[encoded data removed]"
          },
          "metadata": {}
        },
        {
          "output_type": "stream",
          "name": "stdout",
          "text": [
            "Optimal Number of Components: 64\n"
          ]
        }
      ],
      "source": [
        "from sklearn.decomposition import PCA\n",
        "\n",
        "# applying PCA and optimizing the number of components based on RMSE\n",
        "rmse_scores = []\n",
        "components = range(1, X_train.shape[1] + 1)\n",
        "\n",
        "for n in components:\n",
        "\n",
        "    # using sklearn PCA\n",
        "    pca = PCA(n_components=n)\n",
        "    pca.fit(X_train)\n",
        "    X_train_reconstructed = pca.inverse_transform(pca.transform(X_train))\n",
        "    score = rmse(X_train, X_train_reconstructed)\n",
        "    rmse_scores.append(score)\n",
        "\n",
        "# plot of RMSE vs. Number of Components\n",
        "plt.figure(figsize=(10, 6))\n",
        "plt.plot(components, rmse_scores, marker='o', color = \"green\")\n",
        "plt.xlabel(\"Number of Components\")\n",
        "plt.ylabel(\"Reconstruction RMSE\")\n",
        "plt.title(\"RMSE vs. Number of Components\")\n",
        "plt.grid()\n",
        "plt.show()\n",
        "\n",
        "# calculating number of components based on minimum RMSE\n",
        "optimal_components = components[np.argmin(rmse_scores)]\n",
        "print(\"Optimal Number of Components:\", optimal_components)\n"
      ]
    },
    {
      "cell_type": "markdown",
      "metadata": {
        "id": "h1CCYucCstUU"
      },
      "source": [
        "Apply PCA class-wise and merge the transformed features (10 points)"
      ]
    },
    {
      "cell_type": "code",
      "execution_count": 34,
      "metadata": {
        "id": "ewfFBqaesskI",
        "colab": {
          "base_uri": "https://localhost:8080/"
        },
        "outputId": "f66e31bb-8f22-45a7-d875-6bf34f8e2f1f"
      },
      "outputs": [
        {
          "output_type": "stream",
          "name": "stdout",
          "text": [
            "Class-Wise PCA Features Shape: (1437, 3)\n"
          ]
        }
      ],
      "source": [
        "# PCA class-wise\n",
        "class_wise_pca_data = []\n",
        "for cls in np.unique(y_train):\n",
        "    class_data = X_train[y_train == cls]\n",
        "    pca = PCA(n_components=3)\n",
        "    pca.fit(class_data)\n",
        "    transformed = pca.transform(class_data)\n",
        "    class_wise_pca_data.append(transformed)\n",
        "\n",
        "# merging the transformed features\n",
        "merged_features = np.vstack(class_wise_pca_data)\n",
        "merged_labels = np.hstack([np.full(transformed.shape[0], cls) for cls, transformed in zip(np.unique(y_train), class_wise_pca_data)])\n",
        "\n",
        "print(\"Class-Wise PCA Features Shape:\", merged_features.shape)\n"
      ]
    },
    {
      "cell_type": "markdown",
      "metadata": {
        "id": "hIVgxZwFtJfv"
      },
      "source": [
        "Apply classification methods on the transformed features (PCA outputs) both nomral and class-wise (15 points)\n",
        "(normal PCA dimension 30, class-wise PCA dimension 3x10)"
      ]
    },
    {
      "cell_type": "code",
      "execution_count": 35,
      "metadata": {
        "id": "bbx-HOP6tI93",
        "colab": {
          "base_uri": "https://localhost:8080/"
        },
        "outputId": "f5abb324-728d-4177-df8e-646c99e88ef7"
      },
      "outputs": [
        {
          "output_type": "stream",
          "name": "stdout",
          "text": [
            "Logistic Regression Accuracy (Normal PCA): 0.9583333333333334\n",
            "Logistic Regression Accuracy (Class-Wise PCA): 0.052083333333333336\n"
          ]
        }
      ],
      "source": [
        "# applying PCA with a fixed number of components (normal PCA)\n",
        "pca = PCA(n_components=30)\n",
        "pca.fit(X_train)\n",
        "X_train_pca = pca.transform(X_train)\n",
        "X_test_pca = pca.transform(X_test)\n",
        "\n",
        "# LR on normal PCA features\n",
        "log_reg.fit(X_train_pca, y_train)\n",
        "log_reg_pca_predictions = log_reg.predict(X_test_pca)\n",
        "print(\"Logistic Regression Accuracy (Normal PCA):\", accuracy_score(y_test, log_reg_pca_predictions))\n",
        "\n",
        "# classification using PCA class-wise features\n",
        "# splitting merged features into train subset and test subset\n",
        "X_train_class_pca, X_test_class_pca, y_train_class_pca, y_test_class_pca = train_test_split(\n",
        "    merged_features, merged_labels, test_size=0.2, random_state=42)\n",
        "\n",
        "# LR on PCA class-wise features\n",
        "log_reg.fit(X_train_class_pca, y_train_class_pca)\n",
        "log_reg_class_pca_predictions = log_reg.predict(X_test_class_pca)\n",
        "print(\"Logistic Regression Accuracy (Class-Wise PCA):\", accuracy_score(y_test_class_pca, log_reg_class_pca_predictions))\n"
      ]
    }
  ],
  "metadata": {
    "colab": {
      "provenance": []
    },
    "kernelspec": {
      "display_name": "Python 3 (ipykernel)",
      "language": "python",
      "name": "python3"
    },
    "language_info": {
      "codemirror_mode": {
        "name": "ipython",
        "version": 3
      },
      "file_extension": ".py",
      "mimetype": "text/x-python",
      "name": "python",
      "nbconvert_exporter": "python",
      "pygments_lexer": "ipython3",
      "version": "3.12.2"
    }
  },
  "nbformat": 4,
  "nbformat_minor": 0
}